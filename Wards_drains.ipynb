{
 "cells": [
  {
   "cell_type": "code",
   "execution_count": 1,
   "id": "2751f274-db05-4013-85e9-7b761d91d86f",
   "metadata": {
    "editable": true,
    "slideshow": {
     "slide_type": "slide"
    },
    "tags": []
   },
   "outputs": [],
   "source": [
    "import pandas as pd\n",
    "import numpy as np\n",
    "import matplotlib.pyplot as plt"
   ]
  },
  {
   "cell_type": "code",
   "execution_count": 2,
   "id": "fda27aa3-2f17-42bf-a14e-166aaf1a441a",
   "metadata": {
    "editable": true,
    "slideshow": {
     "slide_type": ""
    },
    "tags": []
   },
   "outputs": [
    {
     "data": {
      "text/html": [
       "<div>\n",
       "<style scoped>\n",
       "    .dataframe tbody tr th:only-of-type {\n",
       "        vertical-align: middle;\n",
       "    }\n",
       "\n",
       "    .dataframe tbody tr th {\n",
       "        vertical-align: top;\n",
       "    }\n",
       "\n",
       "    .dataframe thead th {\n",
       "        text-align: right;\n",
       "    }\n",
       "</style>\n",
       "<table border=\"1\" class=\"dataframe\">\n",
       "  <thead>\n",
       "    <tr style=\"text-align: right;\">\n",
       "      <th></th>\n",
       "      <th>Sl.No.</th>\n",
       "      <th>Ward</th>\n",
       "      <th>Name of the Drain</th>\n",
       "      <th>From</th>\n",
       "      <th>To</th>\n",
       "      <th>Length\\n(in Rmt)</th>\n",
       "      <th>Width\\n(in mts)</th>\n",
       "      <th>Remarks</th>\n",
       "    </tr>\n",
       "  </thead>\n",
       "  <tbody>\n",
       "    <tr>\n",
       "      <th>0</th>\n",
       "      <td>NaN</td>\n",
       "      <td>NaN</td>\n",
       "      <td>NaN</td>\n",
       "      <td>NaN</td>\n",
       "      <td>NaN</td>\n",
       "      <td>NaN</td>\n",
       "      <td>NaN</td>\n",
       "      <td>NaN</td>\n",
       "    </tr>\n",
       "    <tr>\n",
       "      <th>1</th>\n",
       "      <td>1.0</td>\n",
       "      <td>31.0</td>\n",
       "      <td>Gangulagedda</td>\n",
       "      <td>Judge Court</td>\n",
       "      <td>Dolphin Circle</td>\n",
       "      <td>1467.0</td>\n",
       "      <td>Varies from 2.5m to 5.5m</td>\n",
       "      <td>NaN</td>\n",
       "    </tr>\n",
       "    <tr>\n",
       "      <th>2</th>\n",
       "      <td>2.0</td>\n",
       "      <td>28.0</td>\n",
       "      <td>Ootagedda</td>\n",
       "      <td>NTR varadhi</td>\n",
       "      <td>Ramakrishna mission aashramam beach road</td>\n",
       "      <td>900.0</td>\n",
       "      <td>Varies from 4m to 8m</td>\n",
       "      <td>NaN</td>\n",
       "    </tr>\n",
       "    <tr>\n",
       "      <th>3</th>\n",
       "      <td>3.0</td>\n",
       "      <td>35.0</td>\n",
       "      <td>SL Canal</td>\n",
       "      <td>Rama Krishna Rythu Bazar</td>\n",
       "      <td>Sea Horse Junction</td>\n",
       "      <td>400.0</td>\n",
       "      <td>Varies from 2.4m to 9m</td>\n",
       "      <td>NaN</td>\n",
       "    </tr>\n",
       "    <tr>\n",
       "      <th>4</th>\n",
       "      <td>NaN</td>\n",
       "      <td>NaN</td>\n",
       "      <td>NaN</td>\n",
       "      <td>NaN</td>\n",
       "      <td>NaN</td>\n",
       "      <td>2767.0</td>\n",
       "      <td>NaN</td>\n",
       "      <td>NaN</td>\n",
       "    </tr>\n",
       "  </tbody>\n",
       "</table>\n",
       "</div>"
      ],
      "text/plain": [
       "   Sl.No.  Ward Name of the Drain                       From  \\\n",
       "0     NaN   NaN                NaN                       NaN   \n",
       "1     1.0  31.0      Gangulagedda                Judge Court   \n",
       "2     2.0  28.0         Ootagedda                NTR varadhi   \n",
       "3     3.0  35.0           SL Canal  Rama Krishna Rythu Bazar   \n",
       "4     NaN   NaN                NaN                       NaN   \n",
       "\n",
       "                                         To  Length\\n(in Rmt)  \\\n",
       "0                                       NaN               NaN   \n",
       "1                            Dolphin Circle            1467.0   \n",
       "2  Ramakrishna mission aashramam beach road             900.0   \n",
       "3                        Sea Horse Junction             400.0   \n",
       "4                                       NaN            2767.0   \n",
       "\n",
       "            Width\\n(in mts)  Remarks  \n",
       "0                       NaN      NaN  \n",
       "1  Varies from 2.5m to 5.5m      NaN  \n",
       "2      Varies from 4m to 8m      NaN  \n",
       "3    Varies from 2.4m to 9m      NaN  \n",
       "4                       NaN      NaN  "
      ]
     },
     "execution_count": 2,
     "metadata": {},
     "output_type": "execute_result"
    }
   ],
   "source": [
    "df = pd.read_excel(\"drains data.xlsx\",sheet_name = \"Sheet2\")\n",
    "cleared_df = df\n",
    "df"
   ]
  },
  {
   "cell_type": "markdown",
   "id": "ee22d557-6c45-426a-9183-01b392be770a",
   "metadata": {
    "editable": true,
    "slideshow": {
     "slide_type": ""
    },
    "tags": []
   },
   "source": [
    "## Changing column names"
   ]
  },
  {
   "cell_type": "code",
   "execution_count": 3,
   "id": "16242145-8ed3-49e7-9e46-e95dc7f09812",
   "metadata": {},
   "outputs": [],
   "source": [
    "cleared_df = df.rename(columns={'Length\\n(in Rmt)': 'Length (Rmt)','Width\\n(in mts)': 'Width (mts)'}, inplace=True)"
   ]
  },
  {
   "cell_type": "markdown",
   "id": "eb2f89a3-dd51-4d36-be3a-f289d97f4972",
   "metadata": {},
   "source": [
    "## Removing Sl.No. column from the data frame"
   ]
  },
  {
   "cell_type": "code",
   "execution_count": 4,
   "id": "cdad5031-ef55-40b8-8210-79a933b0e040",
   "metadata": {},
   "outputs": [],
   "source": [
    "cleared_df=df.drop(\"Sl.No.\", axis=1, inplace=True)\n"
   ]
  },
  {
   "cell_type": "markdown",
   "id": "ab24a0d9-8681-4f79-b8e8-337468cf469a",
   "metadata": {},
   "source": [
    "## Deleting first and last row"
   ]
  },
  {
   "cell_type": "code",
   "execution_count": 5,
   "id": "127f62dd-7cb2-4838-9363-f27d742e836f",
   "metadata": {
    "scrolled": true
   },
   "outputs": [],
   "source": [
    "cleared_df=df.iloc[1:-1].reset_index(drop = True)\n",
    "#cleared_df = cleared_df.dropna(how = \"all\")"
   ]
  },
  {
   "cell_type": "code",
   "execution_count": 6,
   "id": "1eace807-5863-4563-af75-93ed910fe07f",
   "metadata": {},
   "outputs": [
    {
     "data": {
      "text/html": [
       "<div>\n",
       "<style scoped>\n",
       "    .dataframe tbody tr th:only-of-type {\n",
       "        vertical-align: middle;\n",
       "    }\n",
       "\n",
       "    .dataframe tbody tr th {\n",
       "        vertical-align: top;\n",
       "    }\n",
       "\n",
       "    .dataframe thead th {\n",
       "        text-align: right;\n",
       "    }\n",
       "</style>\n",
       "<table border=\"1\" class=\"dataframe\">\n",
       "  <thead>\n",
       "    <tr style=\"text-align: right;\">\n",
       "      <th></th>\n",
       "      <th>Ward</th>\n",
       "      <th>Name of the Drain</th>\n",
       "      <th>From</th>\n",
       "      <th>To</th>\n",
       "      <th>Length (Rmt)</th>\n",
       "      <th>Width (mts)</th>\n",
       "      <th>Remarks</th>\n",
       "    </tr>\n",
       "  </thead>\n",
       "  <tbody>\n",
       "    <tr>\n",
       "      <th>0</th>\n",
       "      <td>31.0</td>\n",
       "      <td>Gangulagedda</td>\n",
       "      <td>Judge Court</td>\n",
       "      <td>Dolphin Circle</td>\n",
       "      <td>1467.0</td>\n",
       "      <td>Varies from 2.5m to 5.5m</td>\n",
       "      <td>NaN</td>\n",
       "    </tr>\n",
       "    <tr>\n",
       "      <th>1</th>\n",
       "      <td>28.0</td>\n",
       "      <td>Ootagedda</td>\n",
       "      <td>NTR varadhi</td>\n",
       "      <td>Ramakrishna mission aashramam beach road</td>\n",
       "      <td>900.0</td>\n",
       "      <td>Varies from 4m to 8m</td>\n",
       "      <td>NaN</td>\n",
       "    </tr>\n",
       "    <tr>\n",
       "      <th>2</th>\n",
       "      <td>35.0</td>\n",
       "      <td>SL Canal</td>\n",
       "      <td>Rama Krishna Rythu Bazar</td>\n",
       "      <td>Sea Horse Junction</td>\n",
       "      <td>400.0</td>\n",
       "      <td>Varies from 2.4m to 9m</td>\n",
       "      <td>NaN</td>\n",
       "    </tr>\n",
       "  </tbody>\n",
       "</table>\n",
       "</div>"
      ],
      "text/plain": [
       "   Ward Name of the Drain                       From  \\\n",
       "0  31.0      Gangulagedda                Judge Court   \n",
       "1  28.0         Ootagedda                NTR varadhi   \n",
       "2  35.0           SL Canal  Rama Krishna Rythu Bazar   \n",
       "\n",
       "                                         To  Length (Rmt)  \\\n",
       "0                            Dolphin Circle        1467.0   \n",
       "1  Ramakrishna mission aashramam beach road         900.0   \n",
       "2                        Sea Horse Junction         400.0   \n",
       "\n",
       "                Width (mts)  Remarks  \n",
       "0  Varies from 2.5m to 5.5m      NaN  \n",
       "1      Varies from 4m to 8m      NaN  \n",
       "2    Varies from 2.4m to 9m      NaN  "
      ]
     },
     "execution_count": 6,
     "metadata": {},
     "output_type": "execute_result"
    }
   ],
   "source": [
    "cleared_df"
   ]
  },
  {
   "cell_type": "markdown",
   "id": "ceeff457-3c16-4dec-846a-4dc68c598d2b",
   "metadata": {},
   "source": [
    "## Changing width to numbers"
   ]
  },
  {
   "cell_type": "code",
   "execution_count": 7,
   "id": "6c862b59-9ec7-4737-9a6b-c47677142d7c",
   "metadata": {},
   "outputs": [],
   "source": [
    "cleared_df['Width (mts)'] = cleared_df['Width (mts)'].str.replace('Varies from ', '', regex=False)\n"
   ]
  },
  {
   "cell_type": "code",
   "execution_count": 8,
   "id": "871d4eef-3ac1-456e-93dc-c638e50c5e4d",
   "metadata": {},
   "outputs": [
    {
     "data": {
      "text/html": [
       "<div>\n",
       "<style scoped>\n",
       "    .dataframe tbody tr th:only-of-type {\n",
       "        vertical-align: middle;\n",
       "    }\n",
       "\n",
       "    .dataframe tbody tr th {\n",
       "        vertical-align: top;\n",
       "    }\n",
       "\n",
       "    .dataframe thead th {\n",
       "        text-align: right;\n",
       "    }\n",
       "</style>\n",
       "<table border=\"1\" class=\"dataframe\">\n",
       "  <thead>\n",
       "    <tr style=\"text-align: right;\">\n",
       "      <th></th>\n",
       "      <th>Ward</th>\n",
       "      <th>Name of the Drain</th>\n",
       "      <th>From</th>\n",
       "      <th>To</th>\n",
       "      <th>Length (Rmt)</th>\n",
       "      <th>Width (mts)</th>\n",
       "      <th>Remarks</th>\n",
       "    </tr>\n",
       "  </thead>\n",
       "  <tbody>\n",
       "    <tr>\n",
       "      <th>0</th>\n",
       "      <td>31.0</td>\n",
       "      <td>Gangulagedda</td>\n",
       "      <td>Judge Court</td>\n",
       "      <td>Dolphin Circle</td>\n",
       "      <td>1467.0</td>\n",
       "      <td>2.5m to 5.5m</td>\n",
       "      <td>NaN</td>\n",
       "    </tr>\n",
       "    <tr>\n",
       "      <th>1</th>\n",
       "      <td>28.0</td>\n",
       "      <td>Ootagedda</td>\n",
       "      <td>NTR varadhi</td>\n",
       "      <td>Ramakrishna mission aashramam beach road</td>\n",
       "      <td>900.0</td>\n",
       "      <td>4m to 8m</td>\n",
       "      <td>NaN</td>\n",
       "    </tr>\n",
       "    <tr>\n",
       "      <th>2</th>\n",
       "      <td>35.0</td>\n",
       "      <td>SL Canal</td>\n",
       "      <td>Rama Krishna Rythu Bazar</td>\n",
       "      <td>Sea Horse Junction</td>\n",
       "      <td>400.0</td>\n",
       "      <td>2.4m to 9m</td>\n",
       "      <td>NaN</td>\n",
       "    </tr>\n",
       "  </tbody>\n",
       "</table>\n",
       "</div>"
      ],
      "text/plain": [
       "   Ward Name of the Drain                       From  \\\n",
       "0  31.0      Gangulagedda                Judge Court   \n",
       "1  28.0         Ootagedda                NTR varadhi   \n",
       "2  35.0           SL Canal  Rama Krishna Rythu Bazar   \n",
       "\n",
       "                                         To  Length (Rmt)   Width (mts)  \\\n",
       "0                            Dolphin Circle        1467.0  2.5m to 5.5m   \n",
       "1  Ramakrishna mission aashramam beach road         900.0      4m to 8m   \n",
       "2                        Sea Horse Junction         400.0    2.4m to 9m   \n",
       "\n",
       "   Remarks  \n",
       "0      NaN  \n",
       "1      NaN  \n",
       "2      NaN  "
      ]
     },
     "execution_count": 8,
     "metadata": {},
     "output_type": "execute_result"
    }
   ],
   "source": [
    "cleared_df"
   ]
  },
  {
   "cell_type": "markdown",
   "id": "e36de54f-275b-4389-937c-221789fe66e1",
   "metadata": {},
   "source": [
    "## Taking data from the dataframe"
   ]
  },
  {
   "cell_type": "code",
   "execution_count": 9,
   "id": "dd781756-2fbd-4a38-9086-a12e45709c4a",
   "metadata": {},
   "outputs": [
    {
     "data": {
      "text/plain": [
       "Index(['Ward', 'Name of the Drain ', 'From', 'To', 'Length (Rmt)',\n",
       "       'Width (mts)', 'Remarks'],\n",
       "      dtype='object')"
      ]
     },
     "execution_count": 9,
     "metadata": {},
     "output_type": "execute_result"
    }
   ],
   "source": [
    "cleared_df.columns\n"
   ]
  },
  {
   "cell_type": "code",
   "execution_count": 10,
   "id": "c764c740-7fb4-4525-856a-d86dc2e04612",
   "metadata": {},
   "outputs": [],
   "source": [
    "wards = cleared_df['Ward']\n",
    "drains = cleared_df['Name of the Drain ']\n",
    "lengths = cleared_df['Length (Rmt)']\n",
    "widths = cleared_df['Width (mts)']"
   ]
  },
  {
   "cell_type": "markdown",
   "id": "b48916e4-1d8e-4f94-971f-757c3eff390f",
   "metadata": {},
   "source": [
    "## Creating new column for wards and drains\n"
   ]
  },
  {
   "cell_type": "code",
   "execution_count": 11,
   "id": "5f5a5e82-9a12-4c8e-850f-e6b91ff14e5e",
   "metadata": {},
   "outputs": [],
   "source": [
    "cleared_df[\"Ward and Drain\"] = cleared_df[\"Ward\"].astype(str) + \" - \" + cleared_df[\"Name of the Drain \"]\n",
    "ward_and_drains = cleared_df[\"Ward and Drain\"]"
   ]
  },
  {
   "cell_type": "markdown",
   "id": "bbc8b007-dd59-4e30-8c64-3051280f2dae",
   "metadata": {},
   "source": [
    "## Plotting graph"
   ]
  },
  {
   "cell_type": "code",
   "execution_count": 12,
   "id": "67ba9e8f-a149-42ea-9e61-bc07895162a1",
   "metadata": {},
   "outputs": [
    {
     "data": {
      "image/png": "[encoded data removed]",
      "text/plain": [
       "<Figure size 1200x600 with 1 Axes>"
      ]
     },
     "metadata": {},
     "output_type": "display_data"
    }
   ],
   "source": [
    "# Plotting\n",
    "fig, ax = plt.subplots(figsize=(12, 6))\n",
    "\n",
    "# Bar chart for lengths\n",
    "bars = ax.barh(ward_and_drains, lengths,height =0.6, color='lightgreen', label='Lengths')\n",
    "\n",
    "# Adding width range as text beside each bar\n",
    "for bar, width_str in zip(bars, widths):\n",
    "    width = width_str.split(' - ') # Extracting the maximum width from the string\n",
    "    ax.text(bar.get_width() + 50, bar.get_y() + bar.get_height()/2, width_str, va='center', ha='left', color='black', fontsize=10)\n",
    "\n",
    "# Adding labels and title\n",
    "ax.set_xlabel('Length in Rmt')\n",
    "ax.set_title('Lengths and Maximum Widths of Drains in Different Wards')\n",
    "ax.set_yticks(range(len(ward_and_drains)))\n",
    "ax.set_yticklabels(ward_and_drains)\n",
    "ax.legend()\n",
    "plt.tight_layout()\n",
    "\n",
    "plt.show()"
   ]
  },
  {
   "cell_type": "code",
   "execution_count": null,
   "id": "5cbd8430-29b8-495b-857e-573de5b158bf",
   "metadata": {},
   "outputs": [],
   "source": []
  },
  {
   "cell_type": "code",
   "execution_count": null,
   "id": "8586e193-8e7b-4191-ba3f-802e85fd020f",
   "metadata": {},
   "outputs": [],
   "source": []
  },
  {
   "cell_type": "code",
   "execution_count": null,
   "id": "167aebe5-770e-48f9-8958-66f8ebf877ee",
   "metadata": {},
   "outputs": [],
   "source": []
  },
  {
   "cell_type": "code",
   "execution_count": null,
   "id": "b47dcd82-da66-49a6-be29-811a49bf1c15",
   "metadata": {},
   "outputs": [],
   "source": []
  },
  {
   "cell_type": "code",
   "execution_count": null,
   "id": "e6794faf-5cab-4fe7-bd67-2b050e6fb611",
   "metadata": {},
   "outputs": [],
   "source": []
  }
 ],
 "metadata": {
  "kernelspec": {
   "display_name": "Python 3 (ipykernel)",
   "language": "python",
   "name": "python3"
  },
  "language_info": {
   "codemirror_mode": {
    "name": "ipython",
    "version": 3
   },
   "file_extension": ".py",
   "mimetype": "text/x-python",
   "name": "python",
   "nbconvert_exporter": "python",
   "pygments_lexer": "ipython3",
   "version": "3.11.9"
  }
 },
 "nbformat": 4,
 "nbformat_minor": 5
}
