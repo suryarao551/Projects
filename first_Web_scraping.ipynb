{
 "cells": [
  {
   "cell_type": "code",
   "execution_count": 3,
   "id": "23da000b-5bbe-4b9f-a71b-c1b4a3119154",
   "metadata": {},
   "outputs": [],
   "source": [
    "import requests\n",
    "from bs4 import BeautifulSoup\n",
    "import pandas as pd\n"
   ]
  },
  {
   "cell_type": "code",
   "execution_count": 4,
   "id": "c319f462-cac6-4e87-be00-6dc14c253432",
   "metadata": {},
   "outputs": [],
   "source": [
    "# URL of the webpage\n",
    "url = \"https://results.eci.gov.in/AcResultGenJune2024/partywiseresult-S01.htm\""
   ]
  },
  {
   "cell_type": "code",
   "execution_count": 5,
   "id": "5ce190f7-34b3-4397-8928-5505d135799c",
   "metadata": {},
   "outputs": [],
   "source": [
    "# Get the webpage content\n",
    "response = requests.get(url)\n",
    "soup = BeautifulSoup(response.content, \"html.parser\")\n"
   ]
  },
  {
   "cell_type": "code",
   "execution_count": 6,
   "id": "57574534-d2bd-44ec-b67e-e91975502eb4",
   "metadata": {},
   "outputs": [],
   "source": [
    "# Find the table containing the election results\n",
    "table = soup.find(\"table\")\n",
    "\n",
    "    # Lists to store data\n",
    "parties = []\n",
    "total = []\n"
   ]
  },
  {
   "cell_type": "code",
   "execution_count": 7,
   "id": "1d559547-b285-43b2-a31c-d145536150ab",
   "metadata": {},
   "outputs": [],
   "source": [
    "for row in table.find_all(\"tr\")[1:]:\n",
    "    cols = row.find_all(\"td\")\n",
    "    if len(cols) >= 4:  # Ensure there are enough columns\n",
    "        parties.append(cols[0].text.strip())\n",
    "        total.append(int(cols[3].text.strip()))\n"
   ]
  },
  {
   "cell_type": "code",
   "execution_count": 8,
   "id": "cb0a4516-bf8d-4c69-ad03-695a2d1cbf9e",
   "metadata": {},
   "outputs": [],
   "source": [
    "    # Create a dictionary\n",
    "data = {\n",
    "    \"Party\": parties,\n",
    "    \"Total\": total\n",
    "}\n"
   ]
  },
  {
   "cell_type": "code",
   "execution_count": 9,
   "id": "08b00462-579b-4e30-b064-373ab4a2fb83",
   "metadata": {},
   "outputs": [
    {
     "name": "stdout",
     "output_type": "stream",
     "text": [
      "                                           Party  Total\n",
      "0                             Telugu Desam - TDP    135\n",
      "1                           Janasena Party - JnP     21\n",
      "2  Yuvajana Sramika Rythu Congress Party - YSRCP     11\n",
      "3                   Bharatiya Janata Party - BJP      8\n"
     ]
    }
   ],
   "source": [
    "  # Convert to a DataFrame\n",
    "df = pd.DataFrame(data)\n",
    "print(df)\n"
   ]
  },
  {
   "cell_type": "code",
   "execution_count": null,
   "id": "f01c8868-54c5-49d5-9ebd-3f72ef8e687e",
   "metadata": {},
   "outputs": [],
   "source": []
  }
 ],
 "metadata": {
  "kernelspec": {
   "display_name": "Python 3 (ipykernel)",
   "language": "python",
   "name": "python3"
  },
  "language_info": {
   "codemirror_mode": {
    "name": "ipython",
    "version": 3
   },
   "file_extension": ".py",
   "mimetype": "text/x-python",
   "name": "python",
   "nbconvert_exporter": "python",
   "pygments_lexer": "ipython3",
   "version": "3.11.9"
  }
 },
 "nbformat": 4,
 "nbformat_minor": 5
}
